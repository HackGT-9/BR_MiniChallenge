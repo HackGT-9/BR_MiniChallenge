{
 "cells": [
  {
   "cell_type": "code",
   "execution_count": 21,
   "metadata": {},
   "outputs": [],
   "source": [
    "import pandas as pd \n",
    "import numpy as np\n",
    "import requests \n",
    "import urllib.request, json"
   ]
  },
  {
   "cell_type": "code",
   "execution_count": 22,
   "metadata": {},
   "outputs": [],
   "source": [
    "#https://mocki.io/v1/43d2c1e0-1428-4c2b-9ae9-05513371693b \n",
    "\n",
    "# request data from the API\n",
    "url = 'https://mocki.io/v1/43d2c1e0-1428-4c2b-9ae9-05513371693b'\n",
    "response = requests.get(url)\n",
    "data = response.json()"
   ]
  },
  {
   "cell_type": "code",
   "execution_count": 68,
   "metadata": {},
   "outputs": [
    {
     "data": {
      "text/plain": [
       "{'AMZN': [{'09/19/2022': 456.67},\n",
       "  {'09/20/2022': 567.56},\n",
       "  {'09/21/2022': 546.87},\n",
       "  {'09/22/2022': 683.43},\n",
       "  {'09/23/2022': 678.89},\n",
       "  {'09/26/2022': 789.98},\n",
       "  {'09/27/2022': 908.08},\n",
       "  {'09/28/2022': 643.32},\n",
       "  {'09/29/2022': 765.14},\n",
       "  {'09/30/2022': 335.63},\n",
       "  {'10/03/2022': 789.39},\n",
       "  {'10/04/2022': 890.04},\n",
       "  {'10/05/2022': 557.67},\n",
       "  {'10/06/2022': 987.67},\n",
       "  {'10/07/2022': 345.67}],\n",
       " 'MSFT': [{'09/19/2022': 324.67},\n",
       "  {'09/20/2022': 345.49},\n",
       "  {'09/21/2022': 445.67},\n",
       "  {'09/22/2022': 876.51},\n",
       "  {'09/23/2022': 909.28},\n",
       "  {'09/26/2022': 720.67},\n",
       "  {'09/27/2022': 890.43},\n",
       "  {'09/28/2022': 578.24},\n",
       "  {'09/29/2022': 609.71},\n",
       "  {'09/30/2022': 869.12},\n",
       "  {'10/03/2022': 996.45},\n",
       "  {'10/04/2022': 563.29},\n",
       "  {'10/05/2022': 942.67},\n",
       "  {'10/06/2022': 654.67},\n",
       "  {'10/07/2022': 789.67}],\n",
       " 'GOOGL': [{'09/19/2022': 145.23},\n",
       "  {'09/20/2022': 154.67},\n",
       "  {'09/21/2022': 169.23},\n",
       "  {'09/22/2022': 178},\n",
       "  {'09/23/2022': 124.76},\n",
       "  {'09/26/2022': 189.67},\n",
       "  {'09/27/2022': 236.34},\n",
       "  {'09/28/2022': 197.12},\n",
       "  {'09/29/2022': 209.67},\n",
       "  {'09/30/2022': 120.67},\n",
       "  {'10/03/2022': 189.67},\n",
       "  {'10/04/2022': 175.67},\n",
       "  {'10/05/2022': 345.67},\n",
       "  {'10/06/2022': 123.67},\n",
       "  {'10/07/2022': 122.67}]}"
      ]
     },
     "execution_count": 68,
     "metadata": {},
     "output_type": "execute_result"
    }
   ],
   "source": [
    "data = json.loads(response.text)\n",
    "len(data['stocks'])\n",
    "res = {}\n",
    "for fuck in data['stocks']:\n",
    "    for bitch in fuck:\n",
    "        if bitch == 'stockSymbol':\n",
    "            res[fuck[bitch]] = []\n",
    "        else:\n",
    "            break\n",
    "for fuck in data['stocks']:\n",
    "    for each in fuck['prices']:\n",
    "        res[fuck['stockSymbol']].append({each['date']:each['price']})\n",
    "res"
   ]
  },
  {
   "cell_type": "code",
   "execution_count": 36,
   "metadata": {},
   "outputs": [],
   "source": [
    "df = pd.DataFrame(data)"
   ]
  },
  {
   "cell_type": "code",
   "execution_count": 38,
   "metadata": {},
   "outputs": [],
   "source": [
    "# stock symbol should be the column \n",
    "df = df.T"
   ]
  },
  {
   "cell_type": "code",
   "execution_count": 39,
   "metadata": {},
   "outputs": [
    {
     "data": {
      "text/html": [
       "<div>\n",
       "<style scoped>\n",
       "    .dataframe tbody tr th:only-of-type {\n",
       "        vertical-align: middle;\n",
       "    }\n",
       "\n",
       "    .dataframe tbody tr th {\n",
       "        vertical-align: top;\n",
       "    }\n",
       "\n",
       "    .dataframe thead th {\n",
       "        text-align: right;\n",
       "    }\n",
       "</style>\n",
       "<table border=\"1\" class=\"dataframe\">\n",
       "  <thead>\n",
       "    <tr style=\"text-align: right;\">\n",
       "      <th></th>\n",
       "      <th>0</th>\n",
       "      <th>1</th>\n",
       "      <th>2</th>\n",
       "    </tr>\n",
       "  </thead>\n",
       "  <tbody>\n",
       "    <tr>\n",
       "      <th>stocks</th>\n",
       "      <td>{'stockSymbol': 'AMZN', 'stockName': 'Amazon.c...</td>\n",
       "      <td>{'stockSymbol': 'MSFT', 'stockName': 'Microsof...</td>\n",
       "      <td>{'stockSymbol': 'GOOGL', 'stockName': 'ALPHABE...</td>\n",
       "    </tr>\n",
       "  </tbody>\n",
       "</table>\n",
       "</div>"
      ],
      "text/plain": [
       "                                                        0  \\\n",
       "stocks  {'stockSymbol': 'AMZN', 'stockName': 'Amazon.c...   \n",
       "\n",
       "                                                        1  \\\n",
       "stocks  {'stockSymbol': 'MSFT', 'stockName': 'Microsof...   \n",
       "\n",
       "                                                        2  \n",
       "stocks  {'stockSymbol': 'GOOGL', 'stockName': 'ALPHABE...  "
      ]
     },
     "execution_count": 39,
     "metadata": {},
     "output_type": "execute_result"
    }
   ],
   "source": []
  }
 ],
 "metadata": {
  "kernelspec": {
   "display_name": "anaconda3",
   "language": "python",
   "name": "python3"
  },
  "language_info": {
   "codemirror_mode": {
    "name": "ipython",
    "version": 3
   },
   "file_extension": ".py",
   "mimetype": "text/x-python",
   "name": "python",
   "nbconvert_exporter": "python",
   "pygments_lexer": "ipython3",
   "version": "3.9.7"
  },
  "orig_nbformat": 4,
  "vscode": {
   "interpreter": {
    "hash": "f5f61564bdc7f53415b2b505550c56a4073778d531a25cde85da04c84ebb0b38"
   }
  }
 },
 "nbformat": 4,
 "nbformat_minor": 2
}
